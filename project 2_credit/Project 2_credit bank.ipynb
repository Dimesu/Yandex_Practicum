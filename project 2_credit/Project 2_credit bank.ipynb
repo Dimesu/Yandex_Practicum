{
 "cells": [
  {
   "cell_type": "markdown",
   "id": "386f2ae7",
   "metadata": {
    "deletable": false,
    "editable": false,
    "id": "386f2ae7"
   },
   "source": [
    "# Исследование надежности заемщиков\n"
   ]
  },
  {
   "cell_type": "markdown",
   "id": "ffe86f65",
   "metadata": {
    "deletable": false,
    "editable": false,
    "id": "ffe86f65"
   },
   "source": [
    "Во второй части проекта вы выполните шаги 3 и 4. Их вручную проверит ревьюер.\n",
    "Чтобы вам не пришлось писать код заново для шагов 1 и 2, мы добавили авторские решения в ячейки с кодом. \n",
    "\n"
   ]
  },
  {
   "cell_type": "markdown",
   "id": "26613308",
   "metadata": {
    "deletable": false,
    "editable": false,
    "id": "26613308"
   },
   "source": [
    "## Откройте таблицу и изучите общую информацию о данных"
   ]
  },
  {
   "cell_type": "markdown",
   "id": "3c9f838e",
   "metadata": {
    "deletable": false,
    "editable": false,
    "id": "3c9f838e"
   },
   "source": [
    "**Задание 1. Импортируйте библиотеку pandas. Считайте данные из csv-файла в датафрейм и сохраните в переменную `data`. Путь к файлу:**\n",
    "\n",
    "`/datasets/data.csv`"
   ]
  },
  {
   "cell_type": "code",
   "execution_count": 2,
   "id": "77a68a90",
   "metadata": {
    "deletable": false,
    "id": "77a68a90"
   },
   "outputs": [],
   "source": [
    "import pandas as pd\n",
    "\n",
    "try:\n",
    "    data = pd.read_csv('/datasets/data.csv')\n",
    "except:\n",
    "    data = pd.read_csv('https://code.s3.yandex.net/datasets/data.csv')"
   ]
  },
  {
   "cell_type": "markdown",
   "id": "45365635",
   "metadata": {
    "deletable": false,
    "editable": false,
    "id": "45365635"
   },
   "source": [
    "**Задание 2. Выведите первые 20 строчек датафрейма `data` на экран.**"
   ]
  },
  {
   "cell_type": "code",
   "execution_count": 3,
   "id": "b0451a9a",
   "metadata": {
    "deletable": false,
    "id": "b0451a9a",
    "outputId": "1a8f3ef2-d323-4ec2-ddf7-89670b5944c4"
   },
   "outputs": [
    {
     "data": {
      "text/html": [
       "<div>\n",
       "<style scoped>\n",
       "    .dataframe tbody tr th:only-of-type {\n",
       "        vertical-align: middle;\n",
       "    }\n",
       "\n",
       "    .dataframe tbody tr th {\n",
       "        vertical-align: top;\n",
       "    }\n",
       "\n",
       "    .dataframe thead th {\n",
       "        text-align: right;\n",
       "    }\n",
       "</style>\n",
       "<table border=\"1\" class=\"dataframe\">\n",
       "  <thead>\n",
       "    <tr style=\"text-align: right;\">\n",
       "      <th></th>\n",
       "      <th>children</th>\n",
       "      <th>days_employed</th>\n",
       "      <th>dob_years</th>\n",
       "      <th>education</th>\n",
       "      <th>education_id</th>\n",
       "      <th>family_status</th>\n",
       "      <th>family_status_id</th>\n",
       "      <th>gender</th>\n",
       "      <th>income_type</th>\n",
       "      <th>debt</th>\n",
       "      <th>total_income</th>\n",
       "      <th>purpose</th>\n",
       "    </tr>\n",
       "  </thead>\n",
       "  <tbody>\n",
       "    <tr>\n",
       "      <th>0</th>\n",
       "      <td>1</td>\n",
       "      <td>-8437.673028</td>\n",
       "      <td>42</td>\n",
       "      <td>высшее</td>\n",
       "      <td>0</td>\n",
       "      <td>женат / замужем</td>\n",
       "      <td>0</td>\n",
       "      <td>F</td>\n",
       "      <td>сотрудник</td>\n",
       "      <td>0</td>\n",
       "      <td>253875.639453</td>\n",
       "      <td>покупка жилья</td>\n",
       "    </tr>\n",
       "    <tr>\n",
       "      <th>1</th>\n",
       "      <td>1</td>\n",
       "      <td>-4024.803754</td>\n",
       "      <td>36</td>\n",
       "      <td>среднее</td>\n",
       "      <td>1</td>\n",
       "      <td>женат / замужем</td>\n",
       "      <td>0</td>\n",
       "      <td>F</td>\n",
       "      <td>сотрудник</td>\n",
       "      <td>0</td>\n",
       "      <td>112080.014102</td>\n",
       "      <td>приобретение автомобиля</td>\n",
       "    </tr>\n",
       "    <tr>\n",
       "      <th>2</th>\n",
       "      <td>0</td>\n",
       "      <td>-5623.422610</td>\n",
       "      <td>33</td>\n",
       "      <td>Среднее</td>\n",
       "      <td>1</td>\n",
       "      <td>женат / замужем</td>\n",
       "      <td>0</td>\n",
       "      <td>M</td>\n",
       "      <td>сотрудник</td>\n",
       "      <td>0</td>\n",
       "      <td>145885.952297</td>\n",
       "      <td>покупка жилья</td>\n",
       "    </tr>\n",
       "    <tr>\n",
       "      <th>3</th>\n",
       "      <td>3</td>\n",
       "      <td>-4124.747207</td>\n",
       "      <td>32</td>\n",
       "      <td>среднее</td>\n",
       "      <td>1</td>\n",
       "      <td>женат / замужем</td>\n",
       "      <td>0</td>\n",
       "      <td>M</td>\n",
       "      <td>сотрудник</td>\n",
       "      <td>0</td>\n",
       "      <td>267628.550329</td>\n",
       "      <td>дополнительное образование</td>\n",
       "    </tr>\n",
       "    <tr>\n",
       "      <th>4</th>\n",
       "      <td>0</td>\n",
       "      <td>340266.072047</td>\n",
       "      <td>53</td>\n",
       "      <td>среднее</td>\n",
       "      <td>1</td>\n",
       "      <td>гражданский брак</td>\n",
       "      <td>1</td>\n",
       "      <td>F</td>\n",
       "      <td>пенсионер</td>\n",
       "      <td>0</td>\n",
       "      <td>158616.077870</td>\n",
       "      <td>сыграть свадьбу</td>\n",
       "    </tr>\n",
       "    <tr>\n",
       "      <th>5</th>\n",
       "      <td>0</td>\n",
       "      <td>-926.185831</td>\n",
       "      <td>27</td>\n",
       "      <td>высшее</td>\n",
       "      <td>0</td>\n",
       "      <td>гражданский брак</td>\n",
       "      <td>1</td>\n",
       "      <td>M</td>\n",
       "      <td>компаньон</td>\n",
       "      <td>0</td>\n",
       "      <td>255763.565419</td>\n",
       "      <td>покупка жилья</td>\n",
       "    </tr>\n",
       "    <tr>\n",
       "      <th>6</th>\n",
       "      <td>0</td>\n",
       "      <td>-2879.202052</td>\n",
       "      <td>43</td>\n",
       "      <td>высшее</td>\n",
       "      <td>0</td>\n",
       "      <td>женат / замужем</td>\n",
       "      <td>0</td>\n",
       "      <td>F</td>\n",
       "      <td>компаньон</td>\n",
       "      <td>0</td>\n",
       "      <td>240525.971920</td>\n",
       "      <td>операции с жильем</td>\n",
       "    </tr>\n",
       "    <tr>\n",
       "      <th>7</th>\n",
       "      <td>0</td>\n",
       "      <td>-152.779569</td>\n",
       "      <td>50</td>\n",
       "      <td>СРЕДНЕЕ</td>\n",
       "      <td>1</td>\n",
       "      <td>женат / замужем</td>\n",
       "      <td>0</td>\n",
       "      <td>M</td>\n",
       "      <td>сотрудник</td>\n",
       "      <td>0</td>\n",
       "      <td>135823.934197</td>\n",
       "      <td>образование</td>\n",
       "    </tr>\n",
       "    <tr>\n",
       "      <th>8</th>\n",
       "      <td>2</td>\n",
       "      <td>-6929.865299</td>\n",
       "      <td>35</td>\n",
       "      <td>ВЫСШЕЕ</td>\n",
       "      <td>0</td>\n",
       "      <td>гражданский брак</td>\n",
       "      <td>1</td>\n",
       "      <td>F</td>\n",
       "      <td>сотрудник</td>\n",
       "      <td>0</td>\n",
       "      <td>95856.832424</td>\n",
       "      <td>на проведение свадьбы</td>\n",
       "    </tr>\n",
       "    <tr>\n",
       "      <th>9</th>\n",
       "      <td>0</td>\n",
       "      <td>-2188.756445</td>\n",
       "      <td>41</td>\n",
       "      <td>среднее</td>\n",
       "      <td>1</td>\n",
       "      <td>женат / замужем</td>\n",
       "      <td>0</td>\n",
       "      <td>M</td>\n",
       "      <td>сотрудник</td>\n",
       "      <td>0</td>\n",
       "      <td>144425.938277</td>\n",
       "      <td>покупка жилья для семьи</td>\n",
       "    </tr>\n",
       "    <tr>\n",
       "      <th>10</th>\n",
       "      <td>2</td>\n",
       "      <td>-4171.483647</td>\n",
       "      <td>36</td>\n",
       "      <td>высшее</td>\n",
       "      <td>0</td>\n",
       "      <td>женат / замужем</td>\n",
       "      <td>0</td>\n",
       "      <td>M</td>\n",
       "      <td>компаньон</td>\n",
       "      <td>0</td>\n",
       "      <td>113943.491460</td>\n",
       "      <td>покупка недвижимости</td>\n",
       "    </tr>\n",
       "    <tr>\n",
       "      <th>11</th>\n",
       "      <td>0</td>\n",
       "      <td>-792.701887</td>\n",
       "      <td>40</td>\n",
       "      <td>среднее</td>\n",
       "      <td>1</td>\n",
       "      <td>женат / замужем</td>\n",
       "      <td>0</td>\n",
       "      <td>F</td>\n",
       "      <td>сотрудник</td>\n",
       "      <td>0</td>\n",
       "      <td>77069.234271</td>\n",
       "      <td>покупка коммерческой недвижимости</td>\n",
       "    </tr>\n",
       "    <tr>\n",
       "      <th>12</th>\n",
       "      <td>0</td>\n",
       "      <td>NaN</td>\n",
       "      <td>65</td>\n",
       "      <td>среднее</td>\n",
       "      <td>1</td>\n",
       "      <td>гражданский брак</td>\n",
       "      <td>1</td>\n",
       "      <td>M</td>\n",
       "      <td>пенсионер</td>\n",
       "      <td>0</td>\n",
       "      <td>NaN</td>\n",
       "      <td>сыграть свадьбу</td>\n",
       "    </tr>\n",
       "    <tr>\n",
       "      <th>13</th>\n",
       "      <td>0</td>\n",
       "      <td>-1846.641941</td>\n",
       "      <td>54</td>\n",
       "      <td>неоконченное высшее</td>\n",
       "      <td>2</td>\n",
       "      <td>женат / замужем</td>\n",
       "      <td>0</td>\n",
       "      <td>F</td>\n",
       "      <td>сотрудник</td>\n",
       "      <td>0</td>\n",
       "      <td>130458.228857</td>\n",
       "      <td>приобретение автомобиля</td>\n",
       "    </tr>\n",
       "    <tr>\n",
       "      <th>14</th>\n",
       "      <td>0</td>\n",
       "      <td>-1844.956182</td>\n",
       "      <td>56</td>\n",
       "      <td>высшее</td>\n",
       "      <td>0</td>\n",
       "      <td>гражданский брак</td>\n",
       "      <td>1</td>\n",
       "      <td>F</td>\n",
       "      <td>компаньон</td>\n",
       "      <td>1</td>\n",
       "      <td>165127.911772</td>\n",
       "      <td>покупка жилой недвижимости</td>\n",
       "    </tr>\n",
       "    <tr>\n",
       "      <th>15</th>\n",
       "      <td>1</td>\n",
       "      <td>-972.364419</td>\n",
       "      <td>26</td>\n",
       "      <td>среднее</td>\n",
       "      <td>1</td>\n",
       "      <td>женат / замужем</td>\n",
       "      <td>0</td>\n",
       "      <td>F</td>\n",
       "      <td>сотрудник</td>\n",
       "      <td>0</td>\n",
       "      <td>116820.904450</td>\n",
       "      <td>строительство собственной недвижимости</td>\n",
       "    </tr>\n",
       "    <tr>\n",
       "      <th>16</th>\n",
       "      <td>0</td>\n",
       "      <td>-1719.934226</td>\n",
       "      <td>35</td>\n",
       "      <td>среднее</td>\n",
       "      <td>1</td>\n",
       "      <td>женат / замужем</td>\n",
       "      <td>0</td>\n",
       "      <td>F</td>\n",
       "      <td>сотрудник</td>\n",
       "      <td>0</td>\n",
       "      <td>289202.704229</td>\n",
       "      <td>недвижимость</td>\n",
       "    </tr>\n",
       "    <tr>\n",
       "      <th>17</th>\n",
       "      <td>0</td>\n",
       "      <td>-2369.999720</td>\n",
       "      <td>33</td>\n",
       "      <td>высшее</td>\n",
       "      <td>0</td>\n",
       "      <td>гражданский брак</td>\n",
       "      <td>1</td>\n",
       "      <td>M</td>\n",
       "      <td>сотрудник</td>\n",
       "      <td>0</td>\n",
       "      <td>90410.586745</td>\n",
       "      <td>строительство недвижимости</td>\n",
       "    </tr>\n",
       "    <tr>\n",
       "      <th>18</th>\n",
       "      <td>0</td>\n",
       "      <td>400281.136913</td>\n",
       "      <td>53</td>\n",
       "      <td>среднее</td>\n",
       "      <td>1</td>\n",
       "      <td>вдовец / вдова</td>\n",
       "      <td>2</td>\n",
       "      <td>F</td>\n",
       "      <td>пенсионер</td>\n",
       "      <td>0</td>\n",
       "      <td>56823.777243</td>\n",
       "      <td>на покупку подержанного автомобиля</td>\n",
       "    </tr>\n",
       "    <tr>\n",
       "      <th>19</th>\n",
       "      <td>0</td>\n",
       "      <td>-10038.818549</td>\n",
       "      <td>48</td>\n",
       "      <td>СРЕДНЕЕ</td>\n",
       "      <td>1</td>\n",
       "      <td>в разводе</td>\n",
       "      <td>3</td>\n",
       "      <td>F</td>\n",
       "      <td>сотрудник</td>\n",
       "      <td>0</td>\n",
       "      <td>242831.107982</td>\n",
       "      <td>на покупку своего автомобиля</td>\n",
       "    </tr>\n",
       "  </tbody>\n",
       "</table>\n",
       "</div>"
      ],
      "text/plain": [
       "    children  days_employed  dob_years            education  education_id  \\\n",
       "0          1   -8437.673028         42               высшее             0   \n",
       "1          1   -4024.803754         36              среднее             1   \n",
       "2          0   -5623.422610         33              Среднее             1   \n",
       "3          3   -4124.747207         32              среднее             1   \n",
       "4          0  340266.072047         53              среднее             1   \n",
       "5          0    -926.185831         27               высшее             0   \n",
       "6          0   -2879.202052         43               высшее             0   \n",
       "7          0    -152.779569         50              СРЕДНЕЕ             1   \n",
       "8          2   -6929.865299         35               ВЫСШЕЕ             0   \n",
       "9          0   -2188.756445         41              среднее             1   \n",
       "10         2   -4171.483647         36               высшее             0   \n",
       "11         0    -792.701887         40              среднее             1   \n",
       "12         0            NaN         65              среднее             1   \n",
       "13         0   -1846.641941         54  неоконченное высшее             2   \n",
       "14         0   -1844.956182         56               высшее             0   \n",
       "15         1    -972.364419         26              среднее             1   \n",
       "16         0   -1719.934226         35              среднее             1   \n",
       "17         0   -2369.999720         33               высшее             0   \n",
       "18         0  400281.136913         53              среднее             1   \n",
       "19         0  -10038.818549         48              СРЕДНЕЕ             1   \n",
       "\n",
       "       family_status  family_status_id gender income_type  debt  \\\n",
       "0    женат / замужем                 0      F   сотрудник     0   \n",
       "1    женат / замужем                 0      F   сотрудник     0   \n",
       "2    женат / замужем                 0      M   сотрудник     0   \n",
       "3    женат / замужем                 0      M   сотрудник     0   \n",
       "4   гражданский брак                 1      F   пенсионер     0   \n",
       "5   гражданский брак                 1      M   компаньон     0   \n",
       "6    женат / замужем                 0      F   компаньон     0   \n",
       "7    женат / замужем                 0      M   сотрудник     0   \n",
       "8   гражданский брак                 1      F   сотрудник     0   \n",
       "9    женат / замужем                 0      M   сотрудник     0   \n",
       "10   женат / замужем                 0      M   компаньон     0   \n",
       "11   женат / замужем                 0      F   сотрудник     0   \n",
       "12  гражданский брак                 1      M   пенсионер     0   \n",
       "13   женат / замужем                 0      F   сотрудник     0   \n",
       "14  гражданский брак                 1      F   компаньон     1   \n",
       "15   женат / замужем                 0      F   сотрудник     0   \n",
       "16   женат / замужем                 0      F   сотрудник     0   \n",
       "17  гражданский брак                 1      M   сотрудник     0   \n",
       "18    вдовец / вдова                 2      F   пенсионер     0   \n",
       "19         в разводе                 3      F   сотрудник     0   \n",
       "\n",
       "     total_income                                 purpose  \n",
       "0   253875.639453                           покупка жилья  \n",
       "1   112080.014102                 приобретение автомобиля  \n",
       "2   145885.952297                           покупка жилья  \n",
       "3   267628.550329              дополнительное образование  \n",
       "4   158616.077870                         сыграть свадьбу  \n",
       "5   255763.565419                           покупка жилья  \n",
       "6   240525.971920                       операции с жильем  \n",
       "7   135823.934197                             образование  \n",
       "8    95856.832424                   на проведение свадьбы  \n",
       "9   144425.938277                 покупка жилья для семьи  \n",
       "10  113943.491460                    покупка недвижимости  \n",
       "11   77069.234271       покупка коммерческой недвижимости  \n",
       "12            NaN                         сыграть свадьбу  \n",
       "13  130458.228857                 приобретение автомобиля  \n",
       "14  165127.911772              покупка жилой недвижимости  \n",
       "15  116820.904450  строительство собственной недвижимости  \n",
       "16  289202.704229                            недвижимость  \n",
       "17   90410.586745              строительство недвижимости  \n",
       "18   56823.777243      на покупку подержанного автомобиля  \n",
       "19  242831.107982            на покупку своего автомобиля  "
      ]
     },
     "execution_count": 3,
     "metadata": {},
     "output_type": "execute_result"
    }
   ],
   "source": [
    "data.head(20)"
   ]
  },
  {
   "cell_type": "markdown",
   "id": "0ed8f27f",
   "metadata": {
    "deletable": false,
    "editable": false,
    "id": "0ed8f27f"
   },
   "source": [
    "**Задание 3. Выведите основную информацию о датафрейме с помощью метода `info()`.**"
   ]
  },
  {
   "cell_type": "code",
   "execution_count": 4,
   "id": "ab3f863b",
   "metadata": {
    "deletable": false,
    "id": "ab3f863b",
    "outputId": "15376089-8dad-46c9-b520-c05248d43158"
   },
   "outputs": [
    {
     "name": "stdout",
     "output_type": "stream",
     "text": [
      "<class 'pandas.core.frame.DataFrame'>\n",
      "RangeIndex: 21525 entries, 0 to 21524\n",
      "Data columns (total 12 columns):\n",
      " #   Column            Non-Null Count  Dtype  \n",
      "---  ------            --------------  -----  \n",
      " 0   children          21525 non-null  int64  \n",
      " 1   days_employed     19351 non-null  float64\n",
      " 2   dob_years         21525 non-null  int64  \n",
      " 3   education         21525 non-null  object \n",
      " 4   education_id      21525 non-null  int64  \n",
      " 5   family_status     21525 non-null  object \n",
      " 6   family_status_id  21525 non-null  int64  \n",
      " 7   gender            21525 non-null  object \n",
      " 8   income_type       21525 non-null  object \n",
      " 9   debt              21525 non-null  int64  \n",
      " 10  total_income      19351 non-null  float64\n",
      " 11  purpose           21525 non-null  object \n",
      "dtypes: float64(2), int64(5), object(5)\n",
      "memory usage: 2.0+ MB\n"
     ]
    }
   ],
   "source": [
    "data.info()"
   ]
  },
  {
   "cell_type": "markdown",
   "id": "60e3e22d",
   "metadata": {
    "deletable": false,
    "editable": false,
    "id": "60e3e22d"
   },
   "source": [
    "## Предобработка данных"
   ]
  },
  {
   "cell_type": "markdown",
   "id": "03dc170c",
   "metadata": {
    "deletable": false,
    "editable": false,
    "id": "03dc170c"
   },
   "source": [
    "### Удаление пропусков"
   ]
  },
  {
   "cell_type": "markdown",
   "id": "a4f54eef",
   "metadata": {
    "deletable": false,
    "editable": false,
    "id": "a4f54eef"
   },
   "source": [
    "**Задание 4. Выведите количество пропущенных значений для каждого столбца. Используйте комбинацию двух методов.**"
   ]
  },
  {
   "cell_type": "code",
   "execution_count": 5,
   "id": "2dc372b2",
   "metadata": {
    "deletable": false,
    "id": "2dc372b2",
    "outputId": "81f4d817-781c-465c-ed15-91ce4446810d"
   },
   "outputs": [
    {
     "data": {
      "text/plain": [
       "children               0\n",
       "days_employed       2174\n",
       "dob_years              0\n",
       "education              0\n",
       "education_id           0\n",
       "family_status          0\n",
       "family_status_id       0\n",
       "gender                 0\n",
       "income_type            0\n",
       "debt                   0\n",
       "total_income        2174\n",
       "purpose                0\n",
       "dtype: int64"
      ]
     },
     "execution_count": 5,
     "metadata": {},
     "output_type": "execute_result"
    }
   ],
   "source": [
    "data.isna().sum()"
   ]
  },
  {
   "cell_type": "markdown",
   "id": "14f011b1",
   "metadata": {
    "deletable": false,
    "editable": false,
    "id": "14f011b1"
   },
   "source": [
    "**Задание 5. В двух столбцах есть пропущенные значения. Один из них — `days_employed`. Пропуски в этом столбце вы обработаете на следующем этапе. Другой столбец с пропущенными значениями — `total_income` — хранит данные о доходах. На сумму дохода сильнее всего влияет тип занятости, поэтому заполнить пропуски в этом столбце нужно медианным значением по каждому типу из столбца `income_type`. Например, у человека с типом занятости `сотрудник` пропуск в столбце `total_income` должен быть заполнен медианным доходом среди всех записей с тем же типом.**"
   ]
  },
  {
   "cell_type": "code",
   "execution_count": 6,
   "id": "bdabfb6e",
   "metadata": {
    "deletable": false,
    "id": "bdabfb6e"
   },
   "outputs": [],
   "source": [
    "for t in data['income_type'].unique():\n",
    "    data.loc[(data['income_type'] == t) & (data['total_income'].isna()), 'total_income'] = \\\n",
    "    data.loc[(data['income_type'] == t), 'total_income'].median()"
   ]
  },
  {
   "cell_type": "markdown",
   "id": "5be34059",
   "metadata": {
    "deletable": false,
    "editable": false,
    "id": "5be34059"
   },
   "source": [
    "### Обработка аномальных значений"
   ]
  },
  {
   "cell_type": "markdown",
   "id": "a87606cb",
   "metadata": {
    "deletable": false,
    "editable": false,
    "id": "a87606cb"
   },
   "source": [
    "**Задание 6. В данных могут встречаться артефакты (аномалии) — значения, которые не отражают действительность и появились по какой-то ошибке. таким артефактом будет отрицательное количество дней трудового стажа в столбце `days_employed`. Для реальных данных это нормально. Обработайте значения в этом столбце: замените все отрицательные значения положительными с помощью метода `abs()`.**"
   ]
  },
  {
   "cell_type": "code",
   "execution_count": 7,
   "id": "020c46cc",
   "metadata": {
    "deletable": false,
    "id": "020c46cc"
   },
   "outputs": [],
   "source": [
    "data['days_employed'] = data['days_employed'].abs()"
   ]
  },
  {
   "cell_type": "markdown",
   "id": "45538a3a",
   "metadata": {
    "deletable": false,
    "editable": false,
    "id": "45538a3a"
   },
   "source": [
    "**Задание 7. Для каждого типа занятости выведите медианное значение трудового стажа `days_employed` в днях.**"
   ]
  },
  {
   "cell_type": "code",
   "execution_count": 8,
   "id": "cd3e6328",
   "metadata": {
    "deletable": false,
    "id": "cd3e6328",
    "outputId": "801ef80e-522b-4668-f34e-565af7432bcf"
   },
   "outputs": [
    {
     "data": {
      "text/plain": [
       "income_type\n",
       "безработный        366413.652744\n",
       "в декрете            3296.759962\n",
       "госслужащий          2689.368353\n",
       "компаньон            1547.382223\n",
       "пенсионер          365213.306266\n",
       "предприниматель       520.848083\n",
       "сотрудник            1574.202821\n",
       "студент               578.751554\n",
       "Name: days_employed, dtype: float64"
      ]
     },
     "execution_count": 8,
     "metadata": {},
     "output_type": "execute_result"
    }
   ],
   "source": [
    "data.groupby('income_type')['days_employed'].agg('median')"
   ]
  },
  {
   "cell_type": "markdown",
   "id": "90c5f058",
   "metadata": {
    "deletable": false,
    "editable": false,
    "id": "90c5f058"
   },
   "source": [
    "У двух типов (безработные и пенсионеры) получатся аномально большие значения. Исправить такие значения сложно, поэтому оставьте их как есть."
   ]
  },
  {
   "cell_type": "markdown",
   "id": "9652e50d",
   "metadata": {
    "deletable": false,
    "editable": false,
    "id": "9652e50d"
   },
   "source": [
    "**Задание 8. Выведите перечень уникальных значений столбца `children`.**"
   ]
  },
  {
   "cell_type": "code",
   "execution_count": 9,
   "id": "dbb37b8e",
   "metadata": {
    "deletable": false,
    "id": "dbb37b8e",
    "outputId": "6975b15c-7f95-4697-d16d-a0c79b657b03"
   },
   "outputs": [
    {
     "data": {
      "text/plain": [
       "array([ 1,  0,  3,  2, -1,  4, 20,  5])"
      ]
     },
     "execution_count": 9,
     "metadata": {},
     "output_type": "execute_result"
    }
   ],
   "source": [
    "data['children'].unique()"
   ]
  },
  {
   "cell_type": "markdown",
   "id": "2b8b0715",
   "metadata": {
    "deletable": false,
    "editable": false,
    "id": "2b8b0715"
   },
   "source": [
    "**Задание 9. В столбце `children` есть два аномальных значения. Удалите строки, в которых встречаются такие аномальные значения из датафрейма `data`.**"
   ]
  },
  {
   "cell_type": "code",
   "execution_count": 10,
   "id": "20009df8",
   "metadata": {
    "deletable": false,
    "id": "20009df8"
   },
   "outputs": [],
   "source": [
    "data = data[(data['children'] != -1) & (data['children'] != 20)]"
   ]
  },
  {
   "cell_type": "markdown",
   "id": "8c6ac9f1",
   "metadata": {
    "deletable": false,
    "editable": false,
    "id": "8c6ac9f1"
   },
   "source": [
    "**Задание 10. Ещё раз выведите перечень уникальных значений столбца `children`, чтобы убедиться, что артефакты удалены.**"
   ]
  },
  {
   "cell_type": "code",
   "execution_count": 11,
   "id": "07337b81",
   "metadata": {
    "deletable": false,
    "id": "07337b81",
    "outputId": "b2097101-d49d-44d9-901b-32a65c9463d1"
   },
   "outputs": [
    {
     "data": {
      "text/plain": [
       "array([1, 0, 3, 2, 4, 5])"
      ]
     },
     "execution_count": 11,
     "metadata": {},
     "output_type": "execute_result"
    }
   ],
   "source": [
    "data['children'].unique()"
   ]
  },
  {
   "cell_type": "markdown",
   "id": "ee3f52d4",
   "metadata": {
    "deletable": false,
    "editable": false,
    "id": "ee3f52d4"
   },
   "source": [
    "### Удаление пропусков (продолжение)"
   ]
  },
  {
   "cell_type": "markdown",
   "id": "a700b0e4",
   "metadata": {
    "deletable": false,
    "editable": false,
    "id": "a700b0e4"
   },
   "source": [
    "**Задание 11. Заполните пропуски в столбце `days_employed` медианными значениями по каждого типа занятости `income_type`.**"
   ]
  },
  {
   "cell_type": "code",
   "execution_count": 12,
   "id": "61946b83",
   "metadata": {
    "deletable": false,
    "id": "61946b83"
   },
   "outputs": [],
   "source": [
    "for t in data['income_type'].unique():\n",
    "    data.loc[(data['income_type'] == t) & (data['days_employed'].isna()), 'days_employed'] = \\\n",
    "    data.loc[(data['income_type'] == t), 'days_employed'].median()"
   ]
  },
  {
   "cell_type": "markdown",
   "id": "550dcd9b",
   "metadata": {
    "deletable": false,
    "editable": false,
    "id": "550dcd9b"
   },
   "source": [
    "**Задание 12. Убедитесь, что все пропуски заполнены. Проверьте себя и ещё раз выведите количество пропущенных значений для каждого столбца с помощью двух методов.**"
   ]
  },
  {
   "cell_type": "code",
   "execution_count": 13,
   "id": "937c7014",
   "metadata": {
    "deletable": false,
    "id": "937c7014",
    "outputId": "8da1e4e1-358e-4e87-98c9-f261bce0a7b2"
   },
   "outputs": [
    {
     "data": {
      "text/plain": [
       "children            0\n",
       "days_employed       0\n",
       "dob_years           0\n",
       "education           0\n",
       "education_id        0\n",
       "family_status       0\n",
       "family_status_id    0\n",
       "gender              0\n",
       "income_type         0\n",
       "debt                0\n",
       "total_income        0\n",
       "purpose             0\n",
       "dtype: int64"
      ]
     },
     "execution_count": 13,
     "metadata": {},
     "output_type": "execute_result"
    }
   ],
   "source": [
    "data.isna().sum()"
   ]
  },
  {
   "cell_type": "markdown",
   "id": "d522e295",
   "metadata": {
    "deletable": false,
    "editable": false,
    "id": "d522e295"
   },
   "source": [
    "### Изменение типов данных"
   ]
  },
  {
   "cell_type": "markdown",
   "id": "c229c581",
   "metadata": {
    "deletable": false,
    "editable": false,
    "id": "c229c581"
   },
   "source": [
    "**Задание 13. Замените вещественный тип данных в столбце `total_income` на целочисленный с помощью метода `astype()`.**"
   ]
  },
  {
   "cell_type": "code",
   "execution_count": 14,
   "id": "31036462",
   "metadata": {
    "deletable": false,
    "id": "31036462"
   },
   "outputs": [],
   "source": [
    "data['total_income'] = data['total_income'].astype(int)"
   ]
  },
  {
   "cell_type": "markdown",
   "id": "b8e3d1d9",
   "metadata": {
    "deletable": false,
    "editable": false,
    "id": "b8e3d1d9"
   },
   "source": [
    "### Обработка дубликатов"
   ]
  },
  {
   "cell_type": "markdown",
   "id": "9be53c49",
   "metadata": {
    "deletable": false,
    "editable": false,
    "id": "9be53c49"
   },
   "source": [
    "**Задание 14. Обработайте неявные дубликаты в столбце `education`. В этом столбце есть одни и те же значения, но записанные по-разному: с использованием заглавных и строчных букв. Приведите их к нижнему регистру.**"
   ]
  },
  {
   "cell_type": "code",
   "execution_count": 15,
   "id": "d89e73e1",
   "metadata": {
    "deletable": false,
    "id": "d89e73e1"
   },
   "outputs": [],
   "source": [
    "data['education'] = data['education'].str.lower()"
   ]
  },
  {
   "cell_type": "markdown",
   "id": "01d4500e",
   "metadata": {
    "deletable": false,
    "editable": false,
    "id": "01d4500e"
   },
   "source": [
    "**Задание 15. Выведите на экран количество строк-дубликатов в данных. Если такие строки присутствуют, удалите их.**"
   ]
  },
  {
   "cell_type": "code",
   "execution_count": 16,
   "id": "e10efb23",
   "metadata": {
    "deletable": false,
    "id": "e10efb23",
    "outputId": "9684deba-1934-42d1-99e1-cda61740f822"
   },
   "outputs": [
    {
     "data": {
      "text/plain": [
       "71"
      ]
     },
     "execution_count": 16,
     "metadata": {},
     "output_type": "execute_result"
    }
   ],
   "source": [
    "data.duplicated().sum()"
   ]
  },
  {
   "cell_type": "code",
   "execution_count": 17,
   "id": "df853f20",
   "metadata": {
    "deletable": false,
    "id": "df853f20"
   },
   "outputs": [],
   "source": [
    "data = data.drop_duplicates()"
   ]
  },
  {
   "cell_type": "markdown",
   "id": "627be38f",
   "metadata": {
    "deletable": false,
    "editable": false,
    "id": "627be38f"
   },
   "source": [
    "### Категоризация данных"
   ]
  },
  {
   "cell_type": "markdown",
   "id": "4684c3e0",
   "metadata": {
    "deletable": false,
    "editable": false,
    "id": "4684c3e0"
   },
   "source": [
    "**Задание 16. На основании диапазонов, указанных ниже, создайте в датафрейме `data` столбец `total_income_category` с категориями:**\n",
    "\n",
    "- 0–30000 — `'E'`;\n",
    "- 30001–50000 — `'D'`;\n",
    "- 50001–200000 — `'C'`;\n",
    "- 200001–1000000 — `'B'`;\n",
    "- 1000001 и выше — `'A'`.\n",
    "\n",
    "\n",
    "**Например, кредитополучателю с доходом 25000 нужно назначить категорию `'E'`, а клиенту, получающему 235000, — `'B'`. Используйте собственную функцию с именем `categorize_income()` и метод `apply()`.**"
   ]
  },
  {
   "cell_type": "code",
   "execution_count": 1,
   "id": "78965238",
   "metadata": {
    "deletable": false,
    "id": "78965238"
   },
   "outputs": [],
   "source": [
    "def categorize_income(income):\n",
    "    try:\n",
    "        if 0 <= income <= 30000:\n",
    "            return 'E'\n",
    "        elif 30001 <= income <= 50000:\n",
    "            return 'D'\n",
    "        elif 50001 <= income <= 200000:\n",
    "            return 'C'\n",
    "        elif 200001 <= income <= 1000000:\n",
    "            return 'B'\n",
    "        elif income >= 1000001:\n",
    "            return 'A'\n",
    "    except:\n",
    "        pass"
   ]
  },
  {
   "cell_type": "code",
   "execution_count": 19,
   "id": "0980ada1",
   "metadata": {
    "deletable": false,
    "id": "0980ada1"
   },
   "outputs": [],
   "source": [
    "data['total_income_category'] = data['total_income'].apply(categorize_income)"
   ]
  },
  {
   "cell_type": "markdown",
   "id": "9917bba0",
   "metadata": {
    "deletable": false,
    "editable": false,
    "id": "9917bba0"
   },
   "source": [
    "**Задание 17. Выведите на экран перечень уникальных целей взятия кредита из столбца `purpose`.**"
   ]
  },
  {
   "cell_type": "code",
   "execution_count": 20,
   "id": "ee07b65e",
   "metadata": {
    "deletable": false,
    "id": "ee07b65e",
    "outputId": "673c12d9-7d7e-4ae0-9812-c622c89dd244"
   },
   "outputs": [
    {
     "data": {
      "text/plain": [
       "array(['покупка жилья', 'приобретение автомобиля',\n",
       "       'дополнительное образование', 'сыграть свадьбу',\n",
       "       'операции с жильем', 'образование', 'на проведение свадьбы',\n",
       "       'покупка жилья для семьи', 'покупка недвижимости',\n",
       "       'покупка коммерческой недвижимости', 'покупка жилой недвижимости',\n",
       "       'строительство собственной недвижимости', 'недвижимость',\n",
       "       'строительство недвижимости', 'на покупку подержанного автомобиля',\n",
       "       'на покупку своего автомобиля',\n",
       "       'операции с коммерческой недвижимостью',\n",
       "       'строительство жилой недвижимости', 'жилье',\n",
       "       'операции со своей недвижимостью', 'автомобили',\n",
       "       'заняться образованием', 'сделка с подержанным автомобилем',\n",
       "       'получение образования', 'автомобиль', 'свадьба',\n",
       "       'получение дополнительного образования', 'покупка своего жилья',\n",
       "       'операции с недвижимостью', 'получение высшего образования',\n",
       "       'свой автомобиль', 'сделка с автомобилем',\n",
       "       'профильное образование', 'высшее образование',\n",
       "       'покупка жилья для сдачи', 'на покупку автомобиля', 'ремонт жилью',\n",
       "       'заняться высшим образованием'], dtype=object)"
      ]
     },
     "execution_count": 20,
     "metadata": {},
     "output_type": "execute_result"
    }
   ],
   "source": [
    "data['purpose'].unique()"
   ]
  },
  {
   "cell_type": "markdown",
   "id": "52b79d56",
   "metadata": {
    "deletable": false,
    "editable": false,
    "id": "52b79d56"
   },
   "source": [
    "**Задание 18. Создайте функцию, которая на основании данных из столбца `purpose` сформирует новый столбец `purpose_category`, в который войдут следующие категории:**\n",
    "\n",
    "- `'операции с автомобилем'`,\n",
    "- `'операции с недвижимостью'`,\n",
    "- `'проведение свадьбы'`,\n",
    "- `'получение образования'`.\n",
    "\n",
    "**Например, если в столбце `purpose` находится подстрока `'на покупку автомобиля'`, то в столбце `purpose_category` должна появиться строка `'операции с автомобилем'`.**\n",
    "\n",
    "**Используйте собственную функцию с именем `categorize_purpose()` и метод `apply()`. Изучите данные в столбце `purpose` и определите, какие подстроки помогут вам правильно определить категорию.**"
   ]
  },
  {
   "cell_type": "code",
   "execution_count": 21,
   "id": "be41da5d",
   "metadata": {
    "deletable": false,
    "id": "be41da5d"
   },
   "outputs": [],
   "source": [
    "def categorize_purpose(row):\n",
    "    try:\n",
    "        if 'автом' in row:\n",
    "            return 'операции с автомобилем'\n",
    "        elif 'жил' in row or 'недвиж' in row:\n",
    "            return 'операции с недвижимостью'\n",
    "        elif 'свад' in row:\n",
    "            return 'проведение свадьбы'\n",
    "        elif 'образов' in row:\n",
    "            return 'получение образования'\n",
    "    except:\n",
    "        return 'нет категории'"
   ]
  },
  {
   "cell_type": "code",
   "execution_count": 22,
   "id": "94c4a19a",
   "metadata": {
    "deletable": false,
    "id": "94c4a19a"
   },
   "outputs": [],
   "source": [
    "data['purpose_category'] = data['purpose'].apply(categorize_purpose)"
   ]
  },
  {
   "cell_type": "markdown",
   "id": "3d596c34",
   "metadata": {
    "deletable": false,
    "editable": false,
    "id": "3d596c34"
   },
   "source": [
    "### Шаг 3. Исследуйте данные и ответьте на вопросы"
   ]
  },
  {
   "cell_type": "markdown",
   "id": "648db036",
   "metadata": {
    "deletable": false,
    "editable": false,
    "id": "648db036"
   },
   "source": [
    "#### 3.1 Есть ли зависимость между количеством детей и возвратом кредита в срок?"
   ]
  },
  {
   "cell_type": "markdown",
   "id": "b6458ce3",
   "metadata": {},
   "source": [
    "##### Посчитаем общее количество всех кто брал кредит и количество тех кто не вернул, с учетом количества детей. \n",
    "##### Для этого построим сводную таблицу по столбцам 'children' (количество детей) и 'debt' (задолженность по возврату кредита). Посчитаем общее количество методом группировки. \n",
    "##### Найдем долю не вернувших кредит в каждой категории разделив количество не вернувших на общее количество."
   ]
  },
  {
   "cell_type": "code",
   "execution_count": 23,
   "id": "7fcff25e",
   "metadata": {
    "deletable": false,
    "id": "7fcff25e"
   },
   "outputs": [
    {
     "name": "stdout",
     "output_type": "stream",
     "text": [
      "          debt\n",
      "children      \n",
      "0         1063\n",
      "1          444\n",
      "2          194\n",
      "3           27\n",
      "4            4\n",
      "5            0\n",
      "children\n",
      "0    14091\n",
      "1     4808\n",
      "2     2052\n",
      "3      330\n",
      "4       41\n",
      "5        9\n",
      "Name: debt, dtype: int64\n",
      "children\n",
      "0    7.543822\n",
      "1    9.234609\n",
      "2    9.454191\n",
      "3    8.181818\n",
      "4    9.756098\n",
      "5    0.000000\n",
      "Name: debt, dtype: float64\n"
     ]
    }
   ],
   "source": [
    "data_pivot_child = data.pivot_table(index=['children'], values='debt', aggfunc = 'sum')\n",
    "child_debt = data.groupby('children')['debt'].count()\n",
    "\n",
    "print(data_pivot_child)\n",
    "print(child_debt)\n",
    "\n",
    "print(data_pivot_child['debt']/child_debt*100)"
   ]
  },
  {
   "cell_type": "markdown",
   "id": "2eb9088e",
   "metadata": {
    "deletable": false,
    "id": "2eb9088e"
   },
   "source": [
    "**Вывод:**  \n",
    "Больше всего кредит берут люди без детей (14 000 против 4800).  \n",
    "И в тоже время у людей без детей самый низкий процент не возврата по кредиту (7,54 %).  \n",
    "С количеством детей количество кредита уменьшается. Меньше всего кредитов берут люди с 3-4 детьми и больше.  \n",
    "С появлением хотя бы одного ребенка процент не возврата по кредиту увеличивается (9,23% против 7,54%).  \n",
    "А вот дальше появление в семье второго, третьего ребенка и т.д практически не влияют на долю не возврата."
   ]
  },
  {
   "cell_type": "markdown",
   "id": "2009a4b3",
   "metadata": {},
   "source": [
    "##### Построим сводную таблицу по столбцам 'children' (количество детей) и 'debt' (задолженность по возврату кредита). В этой таблице выведем общее количество кредитов, количество просрочки и долю не возврата кредита в срок используя функцию aggfunc="
   ]
  },
  {
   "cell_type": "code",
   "execution_count": 74,
   "id": "82155ab0",
   "metadata": {},
   "outputs": [
    {
     "name": "stdout",
     "output_type": "stream",
     "text": [
      "          количество кредитов  доля просрочки  количество просрочки\n",
      "children                                                           \n",
      "0                     14091.0        7.543822                1063.0\n",
      "1                      4808.0        9.234609                 444.0\n",
      "2                      2052.0        9.454191                 194.0\n",
      "3                       330.0        8.181818                  27.0\n",
      "4                        41.0        9.756098                   4.0\n",
      "5                         9.0        0.000000                   0.0\n"
     ]
    }
   ],
   "source": [
    "data_child = data.pivot_table(index=['children'], values='debt', aggfunc= {'debt':['sum', 'count', 'mean']})\n",
    "\n",
    "data_child=data_child.rename(columns={'count':'количество кредитов', 'mean':'доля просрочки', 'sum':'количество просрочки'})\n",
    "\n",
    "data_child['доля просрочки'] = data_child['доля просрочки']*100\n",
    "\n",
    "print(data_child)"
   ]
  },
  {
   "cell_type": "markdown",
   "id": "74c9b3a7",
   "metadata": {
    "deletable": false,
    "editable": false,
    "id": "74c9b3a7"
   },
   "source": [
    "#### 3.2 Есть ли зависимость между семейным положением и возвратом кредита в срок?"
   ]
  },
  {
   "cell_type": "markdown",
   "id": "544936c7",
   "metadata": {},
   "source": [
    "##### Как и в предыдущем выводе построим сводную таблицу и воспользуемся группировкой.\n",
    "##### Построим сводную таблицу по столбцам 'family_status' (семейное положение) и 'debt' (задолженность по возврату кредита) для подсчета количества не возврата кредита в зависимости от семейного положения.\n",
    "##### Сгруппируем по 'family_status' и посчитаем общее количество всех кто брал кредит в зависимости от семейного положения.\n",
    "##### Найдем долю невозврата кредита разделив значения из сводной таблицы на общее количество"
   ]
  },
  {
   "cell_type": "code",
   "execution_count": 69,
   "id": "8098ab3b",
   "metadata": {
    "deletable": false,
    "id": "8098ab3b"
   },
   "outputs": [
    {
     "name": "stdout",
     "output_type": "stream",
     "text": [
      "                       debt\n",
      "family_status              \n",
      "Не женат / не замужем   273\n",
      "в разводе                84\n",
      "вдовец / вдова           63\n",
      "гражданский брак        385\n",
      "женат / замужем         927\n",
      "\n",
      "family_status\n",
      "Не женат / не замужем     2796\n",
      "в разводе                 1189\n",
      "вдовец / вдова             951\n",
      "гражданский брак          4134\n",
      "женат / замужем          12261\n",
      "Name: debt, dtype: int64\n",
      "\n",
      "family_status\n",
      "Не женат / не замужем    9.763948\n",
      "в разводе                7.064760\n",
      "вдовец / вдова           6.624606\n",
      "гражданский брак         9.313014\n",
      "женат / замужем          7.560558\n",
      "Name: debt, dtype: float64\n"
     ]
    }
   ],
   "source": [
    "data_pivot_fam = data.pivot_table(index=['family_status'], values='debt', aggfunc = 'sum')\n",
    "fam_debt = data.groupby('family_status')['debt'].count()\n",
    "\n",
    "print(data_pivot_fam)\n",
    "print()\n",
    "print(fam_debt)\n",
    "print()\n",
    "print(data_pivot_fam['debt']/fam_debt*100)"
   ]
  },
  {
   "cell_type": "markdown",
   "id": "b797dd84",
   "metadata": {},
   "source": [
    "##### Построим сводную таблицу по столбцам 'family_status' (семейное положение) и 'debt' (задолженность по возврату кредита). Также как и в предыдущем примере выведем общее количество кредитов, количество просрочки и долю не возврата кредита в срок используя функцию aggfunc="
   ]
  },
  {
   "cell_type": "code",
   "execution_count": 76,
   "id": "3748821f",
   "metadata": {},
   "outputs": [
    {
     "name": "stdout",
     "output_type": "stream",
     "text": [
      "                       количество кредитов  доля просрочки  \\\n",
      "family_status                                                \n",
      "Не женат / не замужем               2796.0        9.763948   \n",
      "в разводе                           1189.0        7.064760   \n",
      "вдовец / вдова                       951.0        6.624606   \n",
      "гражданский брак                    4134.0        9.313014   \n",
      "женат / замужем                    12261.0        7.560558   \n",
      "\n",
      "                       количество просрочки  \n",
      "family_status                                \n",
      "Не женат / не замужем                 273.0  \n",
      "в разводе                              84.0  \n",
      "вдовец / вдова                         63.0  \n",
      "гражданский брак                      385.0  \n",
      "женат / замужем                       927.0  \n"
     ]
    }
   ],
   "source": [
    "data_fam = data.pivot_table(index=['family_status'], values='debt', aggfunc= {'debt':['sum', 'count', 'mean']})\n",
    "\n",
    "data_fam=data_fam.rename(columns={'count':'количество кредитов', 'mean':'доля просрочки', 'sum':'количество просрочки'})\n",
    "\n",
    "data_fam['доля просрочки'] = data_fam['доля просрочки']*100\n",
    "\n",
    "print(data_fam)"
   ]
  },
  {
   "cell_type": "markdown",
   "id": "c389ca63",
   "metadata": {
    "deletable": false,
    "id": "c389ca63"
   },
   "source": [
    "**Вывод:**  \n",
    "Больше всех кредиты берут женатые/замужние (12261). Меньше всех кредит берут вдовцы (951).  \n",
    "Самый низкий процент не возврата у вдовцов (6,62%)  \n",
    "У не женатых/не замужних и людей в гражданском браке доля не возврата примерно одинаковая и самая высокая в выборке (9,3% - 9,7%)  \n",
    "Также и людей в разводе и женатых доля не возврата примерно одинаковая, но ниже чем у не женатых и в гражданском браке (7,5% - 7,04%)  "
   ]
  },
  {
   "cell_type": "markdown",
   "id": "9529de68",
   "metadata": {
    "deletable": false,
    "editable": false,
    "id": "9529de68"
   },
   "source": [
    "#### 3.3 Есть ли зависимость между уровнем дохода и возвратом кредита в срок?"
   ]
  },
  {
   "cell_type": "markdown",
   "id": "6293ef42",
   "metadata": {},
   "source": [
    "##### По аналогии с прошлыми выводами построим свобдную таблицу и сгруппируем по 'total_income_category'\n",
    "##### Категории доходов:  \n",
    " - 0–30000 — 'E';\n",
    "- 30001–50000 — 'D';\n",
    "- 50001–200000 — 'C';\n",
    "- 200001–1000000 — 'B';\n",
    "- 1000001 и выше — 'A'."
   ]
  },
  {
   "cell_type": "code",
   "execution_count": 70,
   "id": "8787f44a",
   "metadata": {
    "deletable": false,
    "id": "8787f44a"
   },
   "outputs": [
    {
     "name": "stdout",
     "output_type": "stream",
     "text": [
      "                       debt\n",
      "total_income_category      \n",
      "A                         2\n",
      "B                       354\n",
      "C                      1353\n",
      "D                        21\n",
      "E                         2\n",
      "\n",
      "total_income_category\n",
      "A       25\n",
      "B     5014\n",
      "C    15921\n",
      "D      349\n",
      "E       22\n",
      "Name: debt, dtype: int64\n",
      "\n",
      "total_income_category\n",
      "A    8.000000\n",
      "B    7.060231\n",
      "C    8.498210\n",
      "D    6.017192\n",
      "E    9.090909\n",
      "Name: debt, dtype: float64\n"
     ]
    }
   ],
   "source": [
    "data_pivot_total = data.pivot_table(index=['total_income_category'], values='debt', aggfunc = 'sum')\n",
    "total_debt = data.groupby('total_income_category')['debt'].count()\n",
    "\n",
    "print(data_pivot_total)\n",
    "print()\n",
    "print(total_debt)\n",
    "print()\n",
    "print(data_pivot_total['debt']/total_debt*100)"
   ]
  },
  {
   "cell_type": "code",
   "execution_count": 77,
   "id": "79a531e6",
   "metadata": {},
   "outputs": [
    {
     "name": "stdout",
     "output_type": "stream",
     "text": [
      "                       количество кредитов  доля просрочки  \\\n",
      "total_income_category                                        \n",
      "A                                     25.0        8.000000   \n",
      "B                                   5014.0        7.060231   \n",
      "C                                  15921.0        8.498210   \n",
      "D                                    349.0        6.017192   \n",
      "E                                     22.0        9.090909   \n",
      "\n",
      "                       количество просрочки  \n",
      "total_income_category                        \n",
      "A                                       2.0  \n",
      "B                                     354.0  \n",
      "C                                    1353.0  \n",
      "D                                      21.0  \n",
      "E                                       2.0  \n"
     ]
    }
   ],
   "source": [
    "data_total = data.pivot_table(index=['total_income_category'], values='debt', aggfunc= {'debt':['sum', 'count', 'mean']})\n",
    "\n",
    "data_total=data_total.rename(columns={'count':'количество кредитов', 'mean':'доля просрочки', 'sum':'количество просрочки'})\n",
    "\n",
    "data_total['доля просрочки'] = data_total['доля просрочки']*100\n",
    "\n",
    "print(data_total)"
   ]
  },
  {
   "cell_type": "markdown",
   "id": "6dd14b57",
   "metadata": {
    "deletable": false,
    "id": "6dd14b57"
   },
   "source": [
    "**Вывод:**  \n",
    "Больше всего людей берут кредит с зарплатой от 50 001 до 200 000 руб.  \n",
    "Меньше всего людей берут кредит с зарплатой свыше миллиона рублей и ниже 30 000 рублей.  \n",
    "Притом самый высокий процент не возврата у людей с зарплатой меньше 30 000 руб (9,09%).  \n",
    "Самый низкий процент не вовзврата в категории зарплат от 30 001 до 50 000 руб (6,01%).  \n",
    "Не возврат кредита у людей с зарплатами выше миллиона и от 50 001 до 200 000 примерно одинаковый (8% - 8,4%).  \n",
    "Люди с зарплатами от 200 001 до миллиона не очень активно берут кредит и в тоже время стараются вернуть его в срок. процент не возврата средний (7,06%)"
   ]
  },
  {
   "cell_type": "markdown",
   "id": "4b6ab94c",
   "metadata": {},
   "source": [
    "#### Вывод  \n",
    "Категории В и С значительно отличаются по количеству кредитов среди отстальных.  \n",
    "Поэтому для анализа будем использовать только эти две категории, т.е людей с зарплатой от 50 000 до 200 000 и от 200 001 до 1 000 000.  \n",
    "Остальные категории не окажут существенного влияния на показатели.  \n",
    "Люди с зарплатой от 50 000 до 200 000 берут почти в 3 раза больше берут кредит, чем с зарплатой от 200 001 до 1 000 000.  \n",
    "И в тоже время, доля просрочки по кредиту у людей с зарплатой от 50 000 до 200 000 выше."
   ]
  },
  {
   "cell_type": "markdown",
   "id": "1dcc9b12",
   "metadata": {
    "deletable": false,
    "editable": false,
    "id": "1dcc9b12"
   },
   "source": [
    "#### 3.4 Как разные цели кредита влияют на его возврат в срок?"
   ]
  },
  {
   "cell_type": "markdown",
   "id": "a480262f",
   "metadata": {
    "deletable": false,
    "id": "c602bc8b"
   },
   "source": [
    "##### Проведем тоже исследование для целей кредита. На этот раз возьмем столбец purpose_category (категории целей)"
   ]
  },
  {
   "cell_type": "code",
   "execution_count": 71,
   "id": "ae827aa1",
   "metadata": {},
   "outputs": [
    {
     "name": "stdout",
     "output_type": "stream",
     "text": [
      "                          debt\n",
      "purpose_category              \n",
      "операции с автомобилем     400\n",
      "операции с недвижимостью   780\n",
      "получение образования      369\n",
      "проведение свадьбы         183\n",
      "\n",
      "purpose_category\n",
      "операции с автомобилем       4279\n",
      "операции с недвижимостью    10751\n",
      "получение образования        3988\n",
      "проведение свадьбы           2313\n",
      "Name: debt, dtype: int64\n",
      "\n",
      "purpose_category\n",
      "операции с автомобилем      9.347978\n",
      "операции с недвижимостью    7.255139\n",
      "получение образования       9.252758\n",
      "проведение свадьбы          7.911803\n",
      "Name: debt, dtype: float64\n"
     ]
    }
   ],
   "source": [
    "data_pivot_purpose = data.pivot_table(index=['purpose_category'], values='debt', aggfunc = 'sum')\n",
    "purpose_debt = data.groupby('purpose_category')['debt'].count()\n",
    "\n",
    "print(data_pivot_purpose)\n",
    "print()\n",
    "print(purpose_debt)\n",
    "print()\n",
    "print(data_pivot_purpose['debt']/purpose_debt*100)"
   ]
  },
  {
   "cell_type": "code",
   "execution_count": 80,
   "id": "0b7d0c8d",
   "metadata": {},
   "outputs": [
    {
     "name": "stdout",
     "output_type": "stream",
     "text": [
      "                          количество кредитов  доля просрочки  \\\n",
      "purpose_category                                                \n",
      "операции с автомобилем                 4279.0        9.347978   \n",
      "операции с недвижимостью              10751.0        7.255139   \n",
      "получение образования                  3988.0        9.252758   \n",
      "проведение свадьбы                     2313.0        7.911803   \n",
      "\n",
      "                          количество просрочки  \n",
      "purpose_category                                \n",
      "операции с автомобилем                   400.0  \n",
      "операции с недвижимостью                 780.0  \n",
      "получение образования                    369.0  \n",
      "проведение свадьбы                       183.0  \n"
     ]
    }
   ],
   "source": [
    "data_purpose = data.pivot_table(index=['purpose_category'], values='debt', aggfunc= {'debt':['sum', 'count', 'mean']})\n",
    "\n",
    "data_purpose=data_purpose.rename(columns={'count':'количество кредитов', 'mean':'доля просрочки', 'sum':'количество просрочки'})\n",
    "\n",
    "data_purpose['доля просрочки'] = data_purpose['доля просрочки']*100\n",
    "\n",
    "print(data_purpose)"
   ]
  },
  {
   "cell_type": "markdown",
   "id": "cf05ed63",
   "metadata": {
    "deletable": false,
    "id": "cf05ed63"
   },
   "source": [
    "**Вывод:**  \n",
    "Чаще всего люди берут кредит на операции с недвижимостью.  \n",
    "При этом процент не возврата по этим целям самый низкий (7,2%).  \n",
    "Меньше всего люди берут кредит на проведение свадьбы и процент не возврата почти такой же низкий как с недвижимостью (7,2%).  \n",
    "Самая большая просрочка по кредиту у людей бравших кредит на образование и операции с автомобилем (9,2% - 9,3%)."
   ]
  },
  {
   "cell_type": "markdown",
   "id": "46c1f10b",
   "metadata": {
    "deletable": false,
    "editable": false,
    "id": "46c1f10b"
   },
   "source": [
    "#### 3.5 Приведите возможные причины появления пропусков в исходных данных."
   ]
  },
  {
   "cell_type": "markdown",
   "id": "3697d2a9",
   "metadata": {
    "deletable": false,
    "id": "3697d2a9"
   },
   "source": [
    "**Ответ:** Пропуски в исходных данных были в информации об общем трудовом стаже и ежемесячном доходе. Скорее всего потенциальные заемщики специально не указывали эту информацию, чтобы повысить вероятность одобрения кредита."
   ]
  },
  {
   "cell_type": "markdown",
   "id": "3137d257",
   "metadata": {
    "deletable": false,
    "editable": false,
    "id": "3137d257"
   },
   "source": [
    "#### 3.6 Объясните, почему заполнить пропуски медианным значением — лучшее решение для количественных переменных."
   ]
  },
  {
   "cell_type": "markdown",
   "id": "cf40012a",
   "metadata": {
    "deletable": false,
    "id": "cf40012a"
   },
   "source": [
    "**Ответ:** При учете того, что в данных были зарплаты свыше миллиона и большой трудовой стаж, среднее арифмитическое по этим значениям могло сильно исказить данные. Поэтому медианные значение были наиболее подходящим вариантом."
   ]
  },
  {
   "cell_type": "markdown",
   "id": "57bc304e",
   "metadata": {
    "deletable": false,
    "editable": false,
    "id": "57bc304e"
   },
   "source": [
    "### Шаг 4: общий вывод."
   ]
  },
  {
   "cell_type": "markdown",
   "id": "1ab75d1c",
   "metadata": {
    "deletable": false,
    "id": "1ab75d1c"
   },
   "source": [
    " ### Общий вывод\n",
    " В полученных данных были обнаружены не заполненные значения в общем трудовом стаже и ежемесячном доходе. Есть вероятность, что некоторые заемщики специально не указывали свой доход и стаж работы для повышения вероятности одобрения кредита. \n",
    "Пропущенные данные были заполнены медианными значения, так как в трудовом стаже и зарплате присутствуют сильно выделяющиеся значения и среднее арифмитическое по этим значениям могло сильно исказить данные. В то время как медиана устойчива к выделющимся значениям и выбросам.\n",
    "    \n",
    "Также в данных встречались отрицательные значения трудового стажа, которые могли появиться по ошибке ввода или технической ошибке. Такие данные были приведены к положительным значениям.\n",
    "    \n",
    "В информации о детях встречались аномальные значения, отрицательное значение или слишком большое (20). Также в данных присутствовали повторяющиеся значения. Аномальные и повторяющиеся значения были удалены для проведения корректного анализа.  \n",
    "    \n",
    "Для анализа данных информацию о зарплате привели к категориям где зарплаты:  \n",
    "- 0–30000 — 'E';\n",
    "- 30001–50000 — 'D';\n",
    "- 50001–200000 — 'C';\n",
    "- 200001–1000000 — 'B';\n",
    "- 1000001 и выше — 'A'.\n",
    "    \n",
    "    \n",
    "Цели кредита тоже были приведены к категориям: 'операции с автомобилем', 'операции с недвижимостью', 'проведение свадьбы',\n",
    "'получение образования'.\n",
    "    \n",
    "### Вывод по исследованию\n",
    "    \n",
    "Семейное положение влияет на факт погашения кредита в срок.  \n",
    "    \n",
    "Как показали данные, самый низкий процент не возврата у вдовцов (6,62%).  \n",
    "У не женатых/не замужних и людей в гражданском браке доля не возврата примерно одинаковая и самая высокая в выборке (9,3% - 9,7%).  \n",
    "У людей в разводе и женатых доля не возврата примерно одинаковая, но ниже чем у не женатых и в гражданском браке (7,5% - 7,04%).  \n",
    "    \n",
    "Количество детей тоже влияет на факт погашения кредита в срок.  \n",
    "У людей без детей самый низкий процент не возврата по кредиту (7,54 %).  \n",
    "У людей с одним и двумя детьми процент не возврата по кредиту увеличивается и составляет 9,2% - 9,4%.  \n",
    "Доля людей берущих кредит с тремя и более детьми слишком мала, поэтому этими категориями можно пренебречь.  \n",
    "    \n",
    "Также, в ходе исследования было определено, что люди с зарплатой от 50 000 до 200 000 рублей берут кредит почти в 3 раза чаще, чем с зарплатой от 200 001 до 1 000 000 рублей.  \n",
    "При этом, доля просрочки по кредиту у людей с зарплатой от 50 000 до 200 000 выше и составляет 8,5%.  \n",
    "Доля просрочки у людей с зарплатой от 200 001 до 1 000 000 рублей составляет 7,06%.  \n",
    "Доля зарплат в категориях С и В составляет порядка 98% от всех данных, поэтому остальными категориями зарплат можно пренебречь.\n",
    "    \n",
    "Цели кредита также показали влияние на факт погашения кредита в срок.  \n",
    "Так, самый низкий процент не возврата кредита в срок у людей берущих кредит на операции с недвижимостью и свадьбы 7,2% - 7,9%.  \n",
    "У людей берущих кредит на автомобили и образование просрочка по кредиту составляет 9,2% - 9,3%."
   ]
  }
 ],
 "metadata": {
  "ExecuteTimeLog": [
   {
    "duration": 4,
    "start_time": "2023-07-27T17:06:49.267Z"
   },
   {
    "duration": 48,
    "start_time": "2023-07-27T17:14:06.263Z"
   },
   {
    "duration": 827,
    "start_time": "2023-07-27T17:14:31.744Z"
   },
   {
    "duration": 18,
    "start_time": "2023-07-27T17:14:43.162Z"
   },
   {
    "duration": 35,
    "start_time": "2023-07-27T17:14:46.007Z"
   },
   {
    "duration": 6,
    "start_time": "2023-07-27T17:14:47.947Z"
   },
   {
    "duration": 12,
    "start_time": "2023-07-27T17:14:50.104Z"
   },
   {
    "duration": 6,
    "start_time": "2023-07-27T17:14:53.411Z"
   },
   {
    "duration": 9,
    "start_time": "2023-07-27T17:14:55.341Z"
   },
   {
    "duration": 5,
    "start_time": "2023-07-27T17:14:57.806Z"
   },
   {
    "duration": 45,
    "start_time": "2023-07-27T17:15:00.216Z"
   },
   {
    "duration": 10,
    "start_time": "2023-07-27T17:15:02.871Z"
   },
   {
    "duration": 7,
    "start_time": "2023-07-27T17:15:05.560Z"
   },
   {
    "duration": 13,
    "start_time": "2023-07-27T17:15:07.672Z"
   },
   {
    "duration": 21,
    "start_time": "2023-07-27T17:15:09.521Z"
   },
   {
    "duration": 23,
    "start_time": "2023-07-27T17:15:11.252Z"
   },
   {
    "duration": 6,
    "start_time": "2023-07-27T17:15:15.871Z"
   },
   {
    "duration": 10,
    "start_time": "2023-07-27T17:15:17.515Z"
   },
   {
    "duration": 13,
    "start_time": "2023-07-27T17:15:19.848Z"
   },
   {
    "duration": 4,
    "start_time": "2023-07-27T17:15:23.595Z"
   },
   {
    "duration": 26,
    "start_time": "2023-07-27T17:15:26.752Z"
   },
   {
    "duration": 43,
    "start_time": "2023-07-27T17:15:29.276Z"
   },
   {
    "duration": 28,
    "start_time": "2023-07-27T17:24:27.352Z"
   },
   {
    "duration": 26,
    "start_time": "2023-07-27T17:27:28.426Z"
   },
   {
    "duration": 19,
    "start_time": "2023-07-27T17:28:06.194Z"
   },
   {
    "duration": 10,
    "start_time": "2023-07-27T17:28:35.503Z"
   },
   {
    "duration": 15,
    "start_time": "2023-07-27T17:29:34.606Z"
   },
   {
    "duration": 17,
    "start_time": "2023-07-27T17:33:22.213Z"
   },
   {
    "duration": 11,
    "start_time": "2023-07-27T17:33:45.521Z"
   },
   {
    "duration": 14,
    "start_time": "2023-07-27T17:40:39.411Z"
   },
   {
    "duration": 7,
    "start_time": "2023-07-27T17:44:18.021Z"
   },
   {
    "duration": 3,
    "start_time": "2023-07-27T17:45:12.164Z"
   },
   {
    "duration": 3,
    "start_time": "2023-07-27T17:45:33.894Z"
   },
   {
    "duration": 796,
    "start_time": "2023-07-28T14:30:54.302Z"
   },
   {
    "duration": 15,
    "start_time": "2023-07-28T14:31:00.128Z"
   },
   {
    "duration": 35,
    "start_time": "2023-07-28T14:31:03.549Z"
   },
   {
    "duration": 6,
    "start_time": "2023-07-28T14:31:05.397Z"
   },
   {
    "duration": 8,
    "start_time": "2023-07-28T14:31:07.158Z"
   },
   {
    "duration": 4,
    "start_time": "2023-07-28T14:31:10.462Z"
   },
   {
    "duration": 9,
    "start_time": "2023-07-28T14:31:12.405Z"
   },
   {
    "duration": 7,
    "start_time": "2023-07-28T14:31:14.194Z"
   },
   {
    "duration": 39,
    "start_time": "2023-07-28T14:31:16.533Z"
   },
   {
    "duration": 11,
    "start_time": "2023-07-28T14:31:18.969Z"
   },
   {
    "duration": 4,
    "start_time": "2023-07-28T14:31:21.628Z"
   },
   {
    "duration": 12,
    "start_time": "2023-07-28T14:31:23.413Z"
   },
   {
    "duration": 20,
    "start_time": "2023-07-28T14:31:25.244Z"
   },
   {
    "duration": 17,
    "start_time": "2023-07-28T14:31:27.028Z"
   },
   {
    "duration": 3,
    "start_time": "2023-07-28T14:31:33.535Z"
   },
   {
    "duration": 13,
    "start_time": "2023-07-28T14:31:35.341Z"
   },
   {
    "duration": 4,
    "start_time": "2023-07-28T14:31:41.389Z"
   },
   {
    "duration": 8,
    "start_time": "2023-07-28T14:31:43.034Z"
   },
   {
    "duration": 114,
    "start_time": "2023-07-28T14:33:11.506Z"
   },
   {
    "duration": 18,
    "start_time": "2023-07-28T14:33:20.955Z"
   },
   {
    "duration": 14,
    "start_time": "2023-07-28T14:35:03.698Z"
   },
   {
    "duration": 11,
    "start_time": "2023-07-28T14:36:00.235Z"
   },
   {
    "duration": 11,
    "start_time": "2023-07-28T14:36:59.361Z"
   },
   {
    "duration": 13,
    "start_time": "2023-07-28T14:37:19.154Z"
   },
   {
    "duration": 19,
    "start_time": "2023-07-28T14:46:25.395Z"
   },
   {
    "duration": 98,
    "start_time": "2023-07-28T14:47:14.658Z"
   },
   {
    "duration": 86,
    "start_time": "2023-07-28T14:47:59.257Z"
   },
   {
    "duration": 785,
    "start_time": "2023-07-28T14:48:13.752Z"
   },
   {
    "duration": 123,
    "start_time": "2023-07-28T14:49:59.826Z"
   },
   {
    "duration": 116,
    "start_time": "2023-07-28T14:50:13.209Z"
   },
   {
    "duration": 567,
    "start_time": "2023-07-28T14:50:20.031Z"
   },
   {
    "duration": 455,
    "start_time": "2023-07-28T14:50:48.648Z"
   },
   {
    "duration": 336,
    "start_time": "2023-07-28T14:51:07.698Z"
   },
   {
    "duration": 1009,
    "start_time": "2023-07-28T14:51:19.654Z"
   },
   {
    "duration": 147,
    "start_time": "2023-07-28T14:51:53.342Z"
   },
   {
    "duration": 16,
    "start_time": "2023-07-28T14:51:59.015Z"
   },
   {
    "duration": 27,
    "start_time": "2023-07-28T14:55:00.733Z"
   },
   {
    "duration": 14,
    "start_time": "2023-07-28T14:55:20.349Z"
   },
   {
    "duration": 297,
    "start_time": "2023-07-28T14:56:53.942Z"
   },
   {
    "duration": 15,
    "start_time": "2023-07-28T14:57:30.561Z"
   },
   {
    "duration": 19,
    "start_time": "2023-07-28T15:14:02.955Z"
   },
   {
    "duration": 19,
    "start_time": "2023-07-28T15:14:44.147Z"
   },
   {
    "duration": 16,
    "start_time": "2023-07-28T15:28:38.094Z"
   },
   {
    "duration": 24,
    "start_time": "2023-07-28T15:29:59.888Z"
   },
   {
    "duration": 18,
    "start_time": "2023-07-28T15:31:35.503Z"
   },
   {
    "duration": 18,
    "start_time": "2023-07-28T15:52:57.433Z"
   },
   {
    "duration": 95,
    "start_time": "2023-07-28T16:27:07.743Z"
   },
   {
    "duration": 17,
    "start_time": "2023-07-28T16:27:10.298Z"
   },
   {
    "duration": 16,
    "start_time": "2023-07-28T16:27:13.687Z"
   },
   {
    "duration": 11,
    "start_time": "2023-07-28T16:27:16.775Z"
   },
   {
    "duration": 36,
    "start_time": "2023-07-28T16:27:19.078Z"
   },
   {
    "duration": 4,
    "start_time": "2023-07-28T16:27:21.033Z"
   },
   {
    "duration": 9,
    "start_time": "2023-07-28T16:27:22.752Z"
   },
   {
    "duration": 5,
    "start_time": "2023-07-28T16:27:25.398Z"
   },
   {
    "duration": 6,
    "start_time": "2023-07-28T16:27:27.332Z"
   },
   {
    "duration": 5,
    "start_time": "2023-07-28T16:27:30.656Z"
   },
   {
    "duration": 33,
    "start_time": "2023-07-28T16:27:33.168Z"
   },
   {
    "duration": 13,
    "start_time": "2023-07-28T16:27:36.063Z"
   },
   {
    "duration": 4,
    "start_time": "2023-07-28T16:27:38.808Z"
   },
   {
    "duration": 11,
    "start_time": "2023-07-28T16:27:40.750Z"
   },
   {
    "duration": 19,
    "start_time": "2023-07-28T16:27:43.176Z"
   },
   {
    "duration": 18,
    "start_time": "2023-07-28T16:27:44.967Z"
   },
   {
    "duration": 3,
    "start_time": "2023-07-28T16:27:49.150Z"
   },
   {
    "duration": 11,
    "start_time": "2023-07-28T16:27:50.806Z"
   },
   {
    "duration": 6,
    "start_time": "2023-07-28T16:27:52.694Z"
   },
   {
    "duration": 5,
    "start_time": "2023-07-28T16:27:56.959Z"
   },
   {
    "duration": 9,
    "start_time": "2023-07-28T16:27:58.752Z"
   },
   {
    "duration": 17,
    "start_time": "2023-07-28T16:28:04.403Z"
   },
   {
    "duration": 18,
    "start_time": "2023-07-28T16:28:09.453Z"
   },
   {
    "duration": 17,
    "start_time": "2023-07-28T16:28:13.005Z"
   },
   {
    "duration": 19,
    "start_time": "2023-07-28T16:28:17.158Z"
   },
   {
    "duration": 186,
    "start_time": "2023-07-29T11:19:33.648Z"
   },
   {
    "duration": 1282,
    "start_time": "2023-07-29T11:19:47.011Z"
   },
   {
    "duration": 45,
    "start_time": "2023-07-29T11:19:49.597Z"
   },
   {
    "duration": 41,
    "start_time": "2023-07-29T11:19:52.691Z"
   },
   {
    "duration": 18,
    "start_time": "2023-07-29T11:19:55.900Z"
   },
   {
    "duration": 83,
    "start_time": "2023-07-29T11:19:58.287Z"
   },
   {
    "duration": 6,
    "start_time": "2023-07-29T11:20:01.188Z"
   },
   {
    "duration": 16,
    "start_time": "2023-07-29T11:20:02.712Z"
   },
   {
    "duration": 9,
    "start_time": "2023-07-29T11:20:04.951Z"
   },
   {
    "duration": 13,
    "start_time": "2023-07-29T11:20:06.512Z"
   },
   {
    "duration": 42,
    "start_time": "2023-07-29T11:20:08.095Z"
   },
   {
    "duration": 81,
    "start_time": "2023-07-29T11:20:10.130Z"
   },
   {
    "duration": 16,
    "start_time": "2023-07-29T11:20:12.450Z"
   },
   {
    "duration": 12,
    "start_time": "2023-07-29T11:20:14.567Z"
   },
   {
    "duration": 33,
    "start_time": "2023-07-29T11:20:16.483Z"
   },
   {
    "duration": 48,
    "start_time": "2023-07-29T11:20:18.135Z"
   },
   {
    "duration": 45,
    "start_time": "2023-07-29T11:20:19.743Z"
   },
   {
    "duration": 6,
    "start_time": "2023-07-29T11:20:24.547Z"
   },
   {
    "duration": 19,
    "start_time": "2023-07-29T11:20:26.749Z"
   },
   {
    "duration": 8,
    "start_time": "2023-07-29T11:20:28.627Z"
   },
   {
    "duration": 6,
    "start_time": "2023-07-29T11:20:32.725Z"
   },
   {
    "duration": 13,
    "start_time": "2023-07-29T11:20:35.203Z"
   },
   {
    "duration": 23,
    "start_time": "2023-07-29T11:20:38.027Z"
   },
   {
    "duration": 262,
    "start_time": "2023-07-29T11:20:43.887Z"
   },
   {
    "duration": 172,
    "start_time": "2023-07-29T11:20:56.950Z"
   },
   {
    "duration": 15,
    "start_time": "2023-07-29T11:21:24.523Z"
   },
   {
    "duration": 18,
    "start_time": "2023-07-29T11:24:03.638Z"
   },
   {
    "duration": 31,
    "start_time": "2023-07-29T11:25:18.430Z"
   },
   {
    "duration": 16,
    "start_time": "2023-07-29T11:25:50.963Z"
   },
   {
    "duration": 16,
    "start_time": "2023-07-29T11:26:25.023Z"
   },
   {
    "duration": 27,
    "start_time": "2023-07-29T11:27:10.331Z"
   },
   {
    "duration": 18,
    "start_time": "2023-07-29T11:29:20.802Z"
   },
   {
    "duration": 271,
    "start_time": "2023-07-29T11:29:46.514Z"
   },
   {
    "duration": 4,
    "start_time": "2023-07-29T11:42:31.710Z"
   },
   {
    "duration": 15,
    "start_time": "2023-07-29T11:42:53.033Z"
   },
   {
    "duration": 7,
    "start_time": "2023-07-29T11:45:16.140Z"
   },
   {
    "duration": 19,
    "start_time": "2023-07-29T11:45:31.102Z"
   },
   {
    "duration": 8,
    "start_time": "2023-07-29T11:45:39.652Z"
   },
   {
    "duration": 18,
    "start_time": "2023-07-29T11:45:48.355Z"
   },
   {
    "duration": 76,
    "start_time": "2023-07-29T11:46:35.190Z"
   },
   {
    "duration": 26,
    "start_time": "2023-07-29T11:46:48.968Z"
   },
   {
    "duration": 449,
    "start_time": "2023-07-29T11:47:57.863Z"
   },
   {
    "duration": 345,
    "start_time": "2023-07-29T11:48:33.293Z"
   },
   {
    "duration": 19,
    "start_time": "2023-07-29T11:50:40.447Z"
   },
   {
    "duration": 24,
    "start_time": "2023-07-29T11:51:39.500Z"
   },
   {
    "duration": 21,
    "start_time": "2023-07-29T11:51:51.758Z"
   },
   {
    "duration": 208,
    "start_time": "2023-07-29T11:54:50.703Z"
   },
   {
    "duration": 37,
    "start_time": "2023-07-29T11:55:05.478Z"
   },
   {
    "duration": 26,
    "start_time": "2023-07-29T11:55:22.871Z"
   },
   {
    "duration": 16,
    "start_time": "2023-07-29T11:55:51.345Z"
   },
   {
    "duration": 51,
    "start_time": "2023-07-29T11:56:29.563Z"
   },
   {
    "duration": 25,
    "start_time": "2023-07-29T12:04:37.734Z"
   },
   {
    "duration": 44,
    "start_time": "2023-07-29T12:12:13.905Z"
   },
   {
    "duration": 48,
    "start_time": "2023-07-29T12:12:52.409Z"
   },
   {
    "duration": 167,
    "start_time": "2023-07-29T12:13:02.688Z"
   },
   {
    "duration": 150,
    "start_time": "2023-07-29T12:13:09.618Z"
   },
   {
    "duration": 54,
    "start_time": "2023-07-29T12:14:02.490Z"
   },
   {
    "duration": 42,
    "start_time": "2023-07-29T12:14:08.913Z"
   },
   {
    "duration": 156,
    "start_time": "2023-07-29T12:23:03.787Z"
   },
   {
    "duration": 18,
    "start_time": "2023-07-29T12:23:57.728Z"
   },
   {
    "duration": 447,
    "start_time": "2023-07-29T12:29:17.295Z"
   },
   {
    "duration": 116,
    "start_time": "2023-07-29T12:29:39.822Z"
   },
   {
    "duration": 135,
    "start_time": "2023-07-29T12:31:18.398Z"
   },
   {
    "duration": 27,
    "start_time": "2023-07-29T12:31:26.058Z"
   },
   {
    "duration": 135,
    "start_time": "2023-07-29T12:33:39.359Z"
   },
   {
    "duration": 107,
    "start_time": "2023-07-29T12:33:46.622Z"
   },
   {
    "duration": 131,
    "start_time": "2023-07-29T12:33:55.803Z"
   },
   {
    "duration": 191,
    "start_time": "2023-07-29T12:34:01.609Z"
   },
   {
    "duration": 164,
    "start_time": "2023-07-29T12:34:41.993Z"
   },
   {
    "duration": 124,
    "start_time": "2023-07-29T12:34:48.505Z"
   },
   {
    "duration": 318,
    "start_time": "2023-07-29T12:34:52.119Z"
   },
   {
    "duration": 158,
    "start_time": "2023-07-29T12:35:07.928Z"
   },
   {
    "duration": 120,
    "start_time": "2023-07-29T12:35:12.699Z"
   },
   {
    "duration": 19,
    "start_time": "2023-07-29T12:35:21.408Z"
   },
   {
    "duration": 26,
    "start_time": "2023-07-29T12:50:57.339Z"
   },
   {
    "duration": 26,
    "start_time": "2023-07-29T12:51:04.753Z"
   },
   {
    "duration": 38,
    "start_time": "2023-07-29T12:53:51.544Z"
   },
   {
    "duration": 22,
    "start_time": "2023-07-29T13:09:51.813Z"
   },
   {
    "duration": 28,
    "start_time": "2023-07-29T13:11:39.626Z"
   },
   {
    "duration": 37,
    "start_time": "2023-07-29T13:12:22.609Z"
   },
   {
    "duration": 111,
    "start_time": "2023-07-29T15:19:48.341Z"
   },
   {
    "duration": 104,
    "start_time": "2023-07-29T15:19:55.500Z"
   },
   {
    "duration": 124,
    "start_time": "2023-07-29T17:59:56.963Z"
   },
   {
    "duration": 132,
    "start_time": "2023-07-29T18:02:47.061Z"
   },
   {
    "duration": 135,
    "start_time": "2023-07-29T18:05:30.486Z"
   }
  ],
  "colab": {
   "provenance": []
  },
  "kernelspec": {
   "display_name": "Python 3 (ipykernel)",
   "language": "python",
   "name": "python3"
  },
  "language_info": {
   "codemirror_mode": {
    "name": "ipython",
    "version": 3
   },
   "file_extension": ".py",
   "mimetype": "text/x-python",
   "name": "python",
   "nbconvert_exporter": "python",
   "pygments_lexer": "ipython3",
   "version": "3.9.5"
  },
  "toc": {
   "base_numbering": 1,
   "nav_menu": {},
   "number_sections": true,
   "sideBar": true,
   "skip_h1_title": true,
   "title_cell": "Table of Contents",
   "title_sidebar": "Contents",
   "toc_cell": false,
   "toc_position": {},
   "toc_section_display": true,
   "toc_window_display": false
  }
 },
 "nbformat": 4,
 "nbformat_minor": 5
}
